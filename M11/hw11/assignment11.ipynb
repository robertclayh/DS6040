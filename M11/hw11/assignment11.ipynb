{
 "cells": [
  {
   "cell_type": "markdown",
   "id": "540a0931-2d8e-4e91-9f6b-1687fe31d514",
   "metadata": {},
   "source": [
    "# Assignment 11\n",
    "\n",
    "In this assignment we'll examine a data set called `failure_counts.csv`. \n",
    "\n",
    "## Instructions\n",
    "\n",
    "Please complete this Jupyter notebook and **don't** convert it to a `.py` file. Upload this notebook, along with any `.stan` files and any data sets as a `zip` file to Gradescope. Your work will be manually graded by our TA. \n",
    "\n",
    "Protip: if you write your `.stan` file generally enough, it will work with most of the models below, and you won't need to keep recompiling the model object!\n"
   ]
  },
  {
   "cell_type": "code",
   "execution_count": 3,
   "id": "e8725c09-fc5a-4726-b352-7a4fffbe4fc8",
   "metadata": {},
   "outputs": [],
   "source": [
    "import pandas as pd\n",
    "import numpy as np\n",
    "import os\n",
    "from cmdstanpy import CmdStanModel\n",
    "import matplotlib.pyplot as plt"
   ]
  },
  {
   "cell_type": "markdown",
   "id": "61b59f7f-539a-4e6d-a986-a8b70891fc77",
   "metadata": {},
   "source": [
    "## Description of The Data Set\n",
    "\n",
    "We are interested in estimating the probability of failure of a new type of rocket. We have little to no data on this particular type of rocket (it's new, and rocket launches are expensive). However, the data we *do* have is on *related* rockets. \n",
    "\n",
    "This dataset is taken from a Github repository belonging to Alexandre Bouchard-Côté. Each row is a separate type of rocket. For each of those rockets, the data shows how many times that rocket has been launched, as well as how many of those launches have been considered \"failures.\"\n",
    "\n",
    "Here are the first few rows.\n",
    "\n"
   ]
  },
  {
   "cell_type": "code",
   "execution_count": 28,
   "id": "8b4b8f08-4dd5-44a8-bcd1-d289a64422b0",
   "metadata": {},
   "outputs": [
    {
     "data": {
      "text/html": [
       "<div>\n",
       "<style scoped>\n",
       "    .dataframe tbody tr th:only-of-type {\n",
       "        vertical-align: middle;\n",
       "    }\n",
       "\n",
       "    .dataframe tbody tr th {\n",
       "        vertical-align: top;\n",
       "    }\n",
       "\n",
       "    .dataframe thead th {\n",
       "        text-align: right;\n",
       "    }\n",
       "</style>\n",
       "<table border=\"1\" class=\"dataframe\">\n",
       "  <thead>\n",
       "    <tr style=\"text-align: right;\">\n",
       "      <th></th>\n",
       "      <th>LV.Type</th>\n",
       "      <th>numberOfLaunches</th>\n",
       "      <th>numberOfFailures</th>\n",
       "    </tr>\n",
       "  </thead>\n",
       "  <tbody>\n",
       "    <tr>\n",
       "      <th>0</th>\n",
       "      <td>Aerobee</td>\n",
       "      <td>1</td>\n",
       "      <td>0</td>\n",
       "    </tr>\n",
       "    <tr>\n",
       "      <th>1</th>\n",
       "      <td>Angara A5</td>\n",
       "      <td>1</td>\n",
       "      <td>0</td>\n",
       "    </tr>\n",
       "    <tr>\n",
       "      <th>2</th>\n",
       "      <td>Antares 110</td>\n",
       "      <td>2</td>\n",
       "      <td>0</td>\n",
       "    </tr>\n",
       "    <tr>\n",
       "      <th>3</th>\n",
       "      <td>Antares 120</td>\n",
       "      <td>2</td>\n",
       "      <td>0</td>\n",
       "    </tr>\n",
       "    <tr>\n",
       "      <th>4</th>\n",
       "      <td>Antares 130</td>\n",
       "      <td>1</td>\n",
       "      <td>1</td>\n",
       "    </tr>\n",
       "  </tbody>\n",
       "</table>\n",
       "</div>"
      ],
      "text/plain": [
       "       LV.Type  numberOfLaunches  numberOfFailures\n",
       "0      Aerobee                 1                 0\n",
       "1    Angara A5                 1                 0\n",
       "2  Antares 110                 2                 0\n",
       "3  Antares 120                 2                 0\n",
       "4  Antares 130                 1                 1"
      ]
     },
     "execution_count": 28,
     "metadata": {},
     "output_type": "execute_result"
    }
   ],
   "source": [
    "rockets = pd.read_csv(\"failure_counts.csv\")\n",
    "rockets.head()"
   ]
  },
  {
   "cell_type": "markdown",
   "id": "f6f17632-6f7c-4e16-9499-5ab24bf18db0",
   "metadata": {},
   "source": [
    "## Problem 1\n",
    "\n",
    "Please answer the following general questions. Try to place each subquestion answer in a separate cell to keep everything organized. \n",
    "\n",
    "1. Why are the over simplistic and the overly flexible models inappropriate for this data set? Explain why hierarchical models are an essential and important tool to estimate the quantity of interest.\n",
    "2. Write out a model to conduct inference on this data set. Describe all parts of the complete-data likelihood. Use mathematical notation. Describe how you chose your priors.\n",
    "\n",
    "\n",
    "Estimate the parameters of your hierarchical model. Attach your modified `.stan` file to your submission so that we may run it when graded your work.\n",
    "\n",
    "Please be sure to address the following questions about $\\theta$ inference:\n",
    "\n",
    "3. Are the convergence diagnostics satisfactory?\n",
    "4. Report point and interval estimates for global/top level parameter estimates and *interpret* these parameter estimates. Describe why they make sense.\n",
    "5. Provide histograms and scatterplots for the posterior $\\theta$. Describe why the relationship between all elements of $\\theta$ \"makes sense.\"\n",
    "6. Use a `generated quantities` block to come up with a histogram for the new (completely unobserved) rocket's probability of failure on its first launch. What are the chances that this probability is greater than $.01$?\n",
    "\n",
    "\n",
    "Regarding the $z$ inference.\n",
    "\n",
    "7. Provide a plot that shows how related each rocket's failure probability is.\n",
    "8. Explain why inference on $z$ is not your primary goal.\n",
    "9. Explain a real-world situation when inference on $z$ *could* be your primary goal. \n",
    "\n",
    "Finally:\n",
    "\n",
    "10. Describe one weakness of the model's assumptions. \n",
    "11. How do you think a frequentist would approach this problem differently? \n",
    "\n",
    "\n"
   ]
  },
  {
   "cell_type": "markdown",
   "id": "3d9e3607-504d-4d55-b2de-9c61c4616a3f",
   "metadata": {},
   "source": [
    "## Hints:\n",
    "\n",
    "For problem 6, we assume $y_j \\mid z_j \\sim \\text{Binomial}(n_j, z_j)$ for all $j$. *This is true even for $j$s that are from out of sample data.* Let's call the out of sample new rocket $j=368$ because there are $367$ rows in the in sample data.\n",
    "\n",
    "Now, be careful what you condition on. If you want to be a full Bayesian **you're only allowed to condition on what you know: the observed data.**\n",
    "\n",
    "By the rules of probability and the assumptions of our model:\n",
    "\n",
    "$$\n",
    "p( \\text{new rocket fails} \\mid y_{1:367}) = \\iint p(y_{368} = 1 \\mid z_{368}) p(z_{368} \\mid \\alpha, \\beta) \\pi(\\alpha, \\beta \\mid y_{1:367}) \\text{d}z_{368} \\text{d}\\theta = \\iint z_{368} \\text{Beta}(\\alpha, \\beta)\\pi(\\alpha, \\beta \\mid y_{1:367}) \\text{d}z_{368} \\text{d}\\theta \n",
    "$$\n",
    "\n",
    "**Therefore, for each $\\alpha, \\beta$ sample generated by your MCMC algorithm, use those parameters to sample one $z_{368}$ from a $\\text{Beta}(\\alpha, \\beta)$ distribution. All of those samples of the quantity $z_{368}$ can be plotted as a histogram, or used to estimate the center of the histogram, or tail probabilities of the histogram.**\n",
    "\n",
    "The reasoning proving why this \"works\" is because that expression above is a theoretical average (or expectation). *Sample* averages converge to *theoretical* averages by the law of large numbers! \n"
   ]
  }
 ],
 "metadata": {
  "kernelspec": {
   "display_name": "Python 3 (ipykernel)",
   "language": "python",
   "name": "python3"
  },
  "language_info": {
   "codemirror_mode": {
    "name": "ipython",
    "version": 3
   },
   "file_extension": ".py",
   "mimetype": "text/x-python",
   "name": "python",
   "nbconvert_exporter": "python",
   "pygments_lexer": "ipython3",
   "version": "3.11.7"
  }
 },
 "nbformat": 4,
 "nbformat_minor": 5
}
